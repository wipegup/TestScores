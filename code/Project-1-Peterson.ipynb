{
 "cells": [
  {
   "cell_type": "markdown",
   "metadata": {},
   "source": [
    "# Project 1"
   ]
  },
  {
   "cell_type": "markdown",
   "metadata": {},
   "source": [
    "## Step 1: Load the data and perform basic operations."
   ]
  },
  {
   "cell_type": "markdown",
   "metadata": {},
   "source": [
    "##### 1. Load the data in using pandas."
   ]
  },
  {
   "cell_type": "code",
   "execution_count": 1,
   "metadata": {
    "collapsed": true
   },
   "outputs": [],
   "source": [
    "import numpy as np\n",
    "import pandas as pd\n",
    "import matplotlib.pyplot as plt\n",
    "import seaborn as sns\n",
    "import scipy.stats as stats\n",
    "\n",
    "%matplotlib inline"
   ]
  },
  {
   "cell_type": "code",
   "execution_count": 2,
   "metadata": {
    "collapsed": true
   },
   "outputs": [],
   "source": [
    "act = pd.read_csv('../data/act.csv', index_col = 0)\n",
    "sat = pd.read_csv('../data/sat.csv', index_col = 0)"
   ]
  },
  {
   "cell_type": "markdown",
   "metadata": {},
   "source": [
    "##### 2. Print the first ten rows of each dataframe."
   ]
  },
  {
   "cell_type": "code",
   "execution_count": 3,
   "metadata": {},
   "outputs": [
    {
     "data": {
      "text/html": [
       "<div>\n",
       "<style>\n",
       "    .dataframe thead tr:only-child th {\n",
       "        text-align: right;\n",
       "    }\n",
       "\n",
       "    .dataframe thead th {\n",
       "        text-align: left;\n",
       "    }\n",
       "\n",
       "    .dataframe tbody tr th {\n",
       "        vertical-align: top;\n",
       "    }\n",
       "</style>\n",
       "<table border=\"1\" class=\"dataframe\">\n",
       "  <thead>\n",
       "    <tr style=\"text-align: right;\">\n",
       "      <th></th>\n",
       "      <th>State</th>\n",
       "      <th>Participation</th>\n",
       "      <th>English</th>\n",
       "      <th>Math</th>\n",
       "      <th>Reading</th>\n",
       "      <th>Science</th>\n",
       "      <th>Composite</th>\n",
       "    </tr>\n",
       "  </thead>\n",
       "  <tbody>\n",
       "    <tr>\n",
       "      <th>0</th>\n",
       "      <td>National</td>\n",
       "      <td>60%</td>\n",
       "      <td>20.3</td>\n",
       "      <td>20.7</td>\n",
       "      <td>21.4</td>\n",
       "      <td>21.0</td>\n",
       "      <td>21.0</td>\n",
       "    </tr>\n",
       "    <tr>\n",
       "      <th>1</th>\n",
       "      <td>Alabama</td>\n",
       "      <td>100%</td>\n",
       "      <td>18.9</td>\n",
       "      <td>18.4</td>\n",
       "      <td>19.7</td>\n",
       "      <td>19.4</td>\n",
       "      <td>19.2</td>\n",
       "    </tr>\n",
       "    <tr>\n",
       "      <th>2</th>\n",
       "      <td>Alaska</td>\n",
       "      <td>65%</td>\n",
       "      <td>18.7</td>\n",
       "      <td>19.8</td>\n",
       "      <td>20.4</td>\n",
       "      <td>19.9</td>\n",
       "      <td>19.8</td>\n",
       "    </tr>\n",
       "    <tr>\n",
       "      <th>3</th>\n",
       "      <td>Arizona</td>\n",
       "      <td>62%</td>\n",
       "      <td>18.6</td>\n",
       "      <td>19.8</td>\n",
       "      <td>20.1</td>\n",
       "      <td>19.8</td>\n",
       "      <td>19.7</td>\n",
       "    </tr>\n",
       "    <tr>\n",
       "      <th>4</th>\n",
       "      <td>Arkansas</td>\n",
       "      <td>100%</td>\n",
       "      <td>18.9</td>\n",
       "      <td>19.0</td>\n",
       "      <td>19.7</td>\n",
       "      <td>19.5</td>\n",
       "      <td>19.4</td>\n",
       "    </tr>\n",
       "    <tr>\n",
       "      <th>5</th>\n",
       "      <td>California</td>\n",
       "      <td>31%</td>\n",
       "      <td>22.5</td>\n",
       "      <td>22.7</td>\n",
       "      <td>23.1</td>\n",
       "      <td>22.2</td>\n",
       "      <td>22.8</td>\n",
       "    </tr>\n",
       "    <tr>\n",
       "      <th>6</th>\n",
       "      <td>Colorado</td>\n",
       "      <td>100%</td>\n",
       "      <td>20.1</td>\n",
       "      <td>20.3</td>\n",
       "      <td>21.2</td>\n",
       "      <td>20.9</td>\n",
       "      <td>20.8</td>\n",
       "    </tr>\n",
       "    <tr>\n",
       "      <th>7</th>\n",
       "      <td>Connecticut</td>\n",
       "      <td>31%</td>\n",
       "      <td>25.5</td>\n",
       "      <td>24.6</td>\n",
       "      <td>25.6</td>\n",
       "      <td>24.6</td>\n",
       "      <td>25.2</td>\n",
       "    </tr>\n",
       "    <tr>\n",
       "      <th>8</th>\n",
       "      <td>Delaware</td>\n",
       "      <td>18%</td>\n",
       "      <td>24.1</td>\n",
       "      <td>23.4</td>\n",
       "      <td>24.8</td>\n",
       "      <td>23.6</td>\n",
       "      <td>24.1</td>\n",
       "    </tr>\n",
       "    <tr>\n",
       "      <th>9</th>\n",
       "      <td>District of Columbia</td>\n",
       "      <td>32%</td>\n",
       "      <td>24.4</td>\n",
       "      <td>23.5</td>\n",
       "      <td>24.9</td>\n",
       "      <td>23.5</td>\n",
       "      <td>24.2</td>\n",
       "    </tr>\n",
       "  </tbody>\n",
       "</table>\n",
       "</div>"
      ],
      "text/plain": [
       "                  State Participation  English  Math  Reading  Science  \\\n",
       "0              National           60%     20.3  20.7     21.4     21.0   \n",
       "1               Alabama          100%     18.9  18.4     19.7     19.4   \n",
       "2                Alaska           65%     18.7  19.8     20.4     19.9   \n",
       "3               Arizona           62%     18.6  19.8     20.1     19.8   \n",
       "4              Arkansas          100%     18.9  19.0     19.7     19.5   \n",
       "5            California           31%     22.5  22.7     23.1     22.2   \n",
       "6              Colorado          100%     20.1  20.3     21.2     20.9   \n",
       "7           Connecticut           31%     25.5  24.6     25.6     24.6   \n",
       "8              Delaware           18%     24.1  23.4     24.8     23.6   \n",
       "9  District of Columbia           32%     24.4  23.5     24.9     23.5   \n",
       "\n",
       "   Composite  \n",
       "0       21.0  \n",
       "1       19.2  \n",
       "2       19.8  \n",
       "3       19.7  \n",
       "4       19.4  \n",
       "5       22.8  \n",
       "6       20.8  \n",
       "7       25.2  \n",
       "8       24.1  \n",
       "9       24.2  "
      ]
     },
     "execution_count": 3,
     "metadata": {},
     "output_type": "execute_result"
    }
   ],
   "source": [
    "act.head(10)"
   ]
  },
  {
   "cell_type": "code",
   "execution_count": 4,
   "metadata": {},
   "outputs": [
    {
     "data": {
      "text/html": [
       "<div>\n",
       "<style>\n",
       "    .dataframe thead tr:only-child th {\n",
       "        text-align: right;\n",
       "    }\n",
       "\n",
       "    .dataframe thead th {\n",
       "        text-align: left;\n",
       "    }\n",
       "\n",
       "    .dataframe tbody tr th {\n",
       "        vertical-align: top;\n",
       "    }\n",
       "</style>\n",
       "<table border=\"1\" class=\"dataframe\">\n",
       "  <thead>\n",
       "    <tr style=\"text-align: right;\">\n",
       "      <th></th>\n",
       "      <th>State</th>\n",
       "      <th>Participation</th>\n",
       "      <th>Evidence-Based Reading and Writing</th>\n",
       "      <th>Math</th>\n",
       "      <th>Total</th>\n",
       "    </tr>\n",
       "  </thead>\n",
       "  <tbody>\n",
       "    <tr>\n",
       "      <th>0</th>\n",
       "      <td>Alabama</td>\n",
       "      <td>5%</td>\n",
       "      <td>593</td>\n",
       "      <td>572</td>\n",
       "      <td>1165</td>\n",
       "    </tr>\n",
       "    <tr>\n",
       "      <th>1</th>\n",
       "      <td>Alaska</td>\n",
       "      <td>38%</td>\n",
       "      <td>547</td>\n",
       "      <td>533</td>\n",
       "      <td>1080</td>\n",
       "    </tr>\n",
       "    <tr>\n",
       "      <th>2</th>\n",
       "      <td>Arizona</td>\n",
       "      <td>30%</td>\n",
       "      <td>563</td>\n",
       "      <td>553</td>\n",
       "      <td>1116</td>\n",
       "    </tr>\n",
       "    <tr>\n",
       "      <th>3</th>\n",
       "      <td>Arkansas</td>\n",
       "      <td>3%</td>\n",
       "      <td>614</td>\n",
       "      <td>594</td>\n",
       "      <td>1208</td>\n",
       "    </tr>\n",
       "    <tr>\n",
       "      <th>4</th>\n",
       "      <td>California</td>\n",
       "      <td>53%</td>\n",
       "      <td>531</td>\n",
       "      <td>524</td>\n",
       "      <td>1055</td>\n",
       "    </tr>\n",
       "    <tr>\n",
       "      <th>5</th>\n",
       "      <td>Colorado</td>\n",
       "      <td>11%</td>\n",
       "      <td>606</td>\n",
       "      <td>595</td>\n",
       "      <td>1201</td>\n",
       "    </tr>\n",
       "    <tr>\n",
       "      <th>6</th>\n",
       "      <td>Connecticut</td>\n",
       "      <td>100%</td>\n",
       "      <td>530</td>\n",
       "      <td>512</td>\n",
       "      <td>1041</td>\n",
       "    </tr>\n",
       "    <tr>\n",
       "      <th>7</th>\n",
       "      <td>Delaware</td>\n",
       "      <td>100%</td>\n",
       "      <td>503</td>\n",
       "      <td>492</td>\n",
       "      <td>996</td>\n",
       "    </tr>\n",
       "    <tr>\n",
       "      <th>8</th>\n",
       "      <td>District of Columbia</td>\n",
       "      <td>100%</td>\n",
       "      <td>482</td>\n",
       "      <td>468</td>\n",
       "      <td>950</td>\n",
       "    </tr>\n",
       "    <tr>\n",
       "      <th>9</th>\n",
       "      <td>Florida</td>\n",
       "      <td>83%</td>\n",
       "      <td>520</td>\n",
       "      <td>497</td>\n",
       "      <td>1017</td>\n",
       "    </tr>\n",
       "  </tbody>\n",
       "</table>\n",
       "</div>"
      ],
      "text/plain": [
       "                  State Participation  Evidence-Based Reading and Writing  \\\n",
       "0               Alabama            5%                                 593   \n",
       "1                Alaska           38%                                 547   \n",
       "2               Arizona           30%                                 563   \n",
       "3              Arkansas            3%                                 614   \n",
       "4            California           53%                                 531   \n",
       "5              Colorado           11%                                 606   \n",
       "6           Connecticut          100%                                 530   \n",
       "7              Delaware          100%                                 503   \n",
       "8  District of Columbia          100%                                 482   \n",
       "9               Florida           83%                                 520   \n",
       "\n",
       "   Math  Total  \n",
       "0   572   1165  \n",
       "1   533   1080  \n",
       "2   553   1116  \n",
       "3   594   1208  \n",
       "4   524   1055  \n",
       "5   595   1201  \n",
       "6   512   1041  \n",
       "7   492    996  \n",
       "8   468    950  \n",
       "9   497   1017  "
      ]
     },
     "execution_count": 4,
     "metadata": {},
     "output_type": "execute_result"
    }
   ],
   "source": [
    "sat.head(10)"
   ]
  },
  {
   "cell_type": "markdown",
   "metadata": {},
   "source": [
    "##### 3. Describe in words what each variable (column) is."
   ]
  },
  {
   "cell_type": "markdown",
   "metadata": {
    "collapsed": true
   },
   "source": [
    "The first two coulumns in each dataframe are state name and participation rate in that state for the corresponding test.  \n",
    "\n",
    "The following columns in the `act` dataframe are average scores for the English, Math, Reading, Science and Composite scores for the state.  \n",
    "\n",
    "The last three columns in the `sat` data frame are average Reading/Writing, Math, and Total Score for each State"
   ]
  },
  {
   "cell_type": "markdown",
   "metadata": {},
   "source": [
    "##### 4. Does the data look complete? Are there any obvious issues with the observations?"
   ]
  },
  {
   "cell_type": "code",
   "execution_count": 5,
   "metadata": {
    "scrolled": false
   },
   "outputs": [
    {
     "name": "stdout",
     "output_type": "stream",
     "text": [
      "State                                 0\n",
      "Participation                         0\n",
      "Evidence-Based Reading and Writing    0\n",
      "Math                                  0\n",
      "Total                                 0\n",
      "dtype: int64\n",
      "State            0\n",
      "Participation    0\n",
      "English          0\n",
      "Math             0\n",
      "Reading          0\n",
      "Science          0\n",
      "Composite        0\n",
      "dtype: int64\n",
      "<class 'pandas.core.frame.DataFrame'>\n",
      "Int64Index: 51 entries, 0 to 50\n",
      "Data columns (total 5 columns):\n",
      "State                                 51 non-null object\n",
      "Participation                         51 non-null object\n",
      "Evidence-Based Reading and Writing    51 non-null int64\n",
      "Math                                  51 non-null int64\n",
      "Total                                 51 non-null int64\n",
      "dtypes: int64(3), object(2)\n",
      "memory usage: 2.4+ KB\n",
      "None\n",
      "<class 'pandas.core.frame.DataFrame'>\n",
      "Int64Index: 52 entries, 0 to 51\n",
      "Data columns (total 7 columns):\n",
      "State            52 non-null object\n",
      "Participation    52 non-null object\n",
      "English          52 non-null float64\n",
      "Math             52 non-null float64\n",
      "Reading          52 non-null float64\n",
      "Science          52 non-null float64\n",
      "Composite        52 non-null float64\n",
      "dtypes: float64(5), object(2)\n",
      "memory usage: 3.2+ KB\n",
      "None\n"
     ]
    },
    {
     "data": {
      "image/png": "[encoded data removed]",
      "text/plain": [
       "<matplotlib.figure.Figure at 0x1f3fd4037f0>"
      ]
     },
     "metadata": {},
     "output_type": "display_data"
    },
    {
     "data": {
      "image/png": "[encoded data removed]",
      "text/plain": [
       "<matplotlib.figure.Figure at 0x1f3fd9d5a20>"
      ]
     },
     "metadata": {},
     "output_type": "display_data"
    }
   ],
   "source": [
    "print(sat.isnull().sum())\n",
    "print(act.isnull().sum())\n",
    "\n",
    "print(sat.info())\n",
    "print(act.info())\n",
    "\n",
    "sat.hist(bins = 10, figsize=(20,15));\n",
    "act.hist(bins = 10, figsize=(20,15));"
   ]
  },
  {
   "cell_type": "markdown",
   "metadata": {},
   "source": [
    "The data looks complete (no nulls). However, it appears as if there are some abnormally low Math and Science Scores from the SAT/ACT respectively.  \n",
    "\n",
    "The two data sets have different numbers of observations. While there would be 51-state-level observations expected, the ACT data also includes a National Average.  \n",
    "\n",
    "*Let's look at the low scores:*"
   ]
  },
  {
   "cell_type": "code",
   "execution_count": 6,
   "metadata": {},
   "outputs": [
    {
     "name": "stdout",
     "output_type": "stream",
     "text": [
      "       State Participation  Evidence-Based Reading and Writing  Math  Total\n",
      "20  Maryland           69%                                 536    52   1060\n",
      "       State Participation  English  Math  Reading  Science  Composite\n",
      "21  Maryland           28%     23.3  23.1     24.2      2.3       23.6\n"
     ]
    }
   ],
   "source": [
    "print(sat[sat['Math']<300])\n",
    "print(act[act['Science']<15])"
   ]
  },
  {
   "cell_type": "markdown",
   "metadata": {},
   "source": [
    "The corrupted data appears to be from Maryland. Returning to the source (https://blog.prepscholar.com/average-sat-scores-by-state-most-recent) and (https://blog.prepscholar.com/act-scores-by-state-averages-highs-and-lows). It appears as if the SAT Math score should actually be 524, and the ACT Science should be 23.2.  \n",
    "\n",
    "Possibly mis-transcription occured?\n",
    "\n",
    "*Correct data:*"
   ]
  },
  {
   "cell_type": "code",
   "execution_count": 7,
   "metadata": {
    "collapsed": true
   },
   "outputs": [],
   "source": [
    "sat.loc[20, 'Math'] = 524\n",
    "act.loc[21, 'Science'] = 23.2"
   ]
  },
  {
   "cell_type": "markdown",
   "metadata": {},
   "source": [
    "##### 5. Print the types of each column."
   ]
  },
  {
   "cell_type": "code",
   "execution_count": 8,
   "metadata": {
    "scrolled": true
   },
   "outputs": [
    {
     "name": "stdout",
     "output_type": "stream",
     "text": [
      "SAT:\n",
      "State                                 object\n",
      "Participation                         object\n",
      "Evidence-Based Reading and Writing     int64\n",
      "Math                                   int64\n",
      "Total                                  int64\n",
      "dtype: object\n",
      "\n",
      "ACT: \n",
      "State             object\n",
      "Participation     object\n",
      "English          float64\n",
      "Math             float64\n",
      "Reading          float64\n",
      "Science          float64\n",
      "Composite        float64\n",
      "dtype: object\n"
     ]
    }
   ],
   "source": [
    "print('SAT:')\n",
    "print(sat.dtypes)\n",
    "print('\\nACT: ')\n",
    "print(act.dtypes)"
   ]
  },
  {
   "cell_type": "markdown",
   "metadata": {},
   "source": [
    "##### 6. Do any types need to be reassigned? If so, go ahead and do it."
   ]
  },
  {
   "cell_type": "markdown",
   "metadata": {},
   "source": [
    "The 'Participation' variable currently exists as an Object instead of a numeric type. The presence of a '%' in the .csv caused this casting."
   ]
  },
  {
   "cell_type": "code",
   "execution_count": 9,
   "metadata": {
    "collapsed": true
   },
   "outputs": [],
   "source": [
    "sat.Participation = sat.Participation.str.replace('%','').astype(int)\n",
    "act.Participation = act.Participation.str.replace('%','').astype(int)"
   ]
  },
  {
   "cell_type": "markdown",
   "metadata": {},
   "source": [
    "##### 7. Create a dictionary for each column mapping the State to its respective value for that column. (For example, you should have three SAT dictionaries.)"
   ]
  },
  {
   "cell_type": "code",
   "execution_count": 10,
   "metadata": {
    "collapsed": true
   },
   "outputs": [],
   "source": [
    "act_dicts = {c : \n",
    "             {act.loc[i].State : act.loc[i].Participation\n",
    "              for i in act.index }\n",
    "             for c in act.columns[1:]\n",
    "            }\n",
    "\n",
    "sat_dicts = {c : \n",
    "             {sat.loc[i].State : sat.loc[i].Participation\n",
    "              for i in sat.index }\n",
    "             for c in sat.columns[1:]\n",
    "            }"
   ]
  },
  {
   "cell_type": "markdown",
   "metadata": {},
   "source": [
    "*Example of dictionary:*"
   ]
  },
  {
   "cell_type": "code",
   "execution_count": 11,
   "metadata": {},
   "outputs": [
    {
     "data": {
      "text/plain": [
       "{'Evidence-Based Reading and Writing': {'Alabama': 5,\n",
       "  'Alaska': 38,\n",
       "  'Arizona': 30,\n",
       "  'Arkansas': 3,\n",
       "  'California': 53,\n",
       "  'Colorado': 11,\n",
       "  'Connecticut': 100,\n",
       "  'Delaware': 100,\n",
       "  'District of Columbia': 100,\n",
       "  'Florida': 83,\n",
       "  'Georgia': 61,\n",
       "  'Hawaii': 55,\n",
       "  'Idaho': 93,\n",
       "  'Illinois': 9,\n",
       "  'Indiana': 63,\n",
       "  'Iowa': 2,\n",
       "  'Kansas': 4,\n",
       "  'Kentucky': 4,\n",
       "  'Louisiana': 4,\n",
       "  'Maine': 95,\n",
       "  'Maryland': 69,\n",
       "  'Massachusetts': 76,\n",
       "  'Michigan': 100,\n",
       "  'Minnesota': 3,\n",
       "  'Mississippi': 2,\n",
       "  'Missouri': 3,\n",
       "  'Montana': 10,\n",
       "  'Nebraska': 3,\n",
       "  'Nevada': 26,\n",
       "  'New Hampshire': 96,\n",
       "  'New Jersey': 70,\n",
       "  'New Mexico': 11,\n",
       "  'New York': 67,\n",
       "  'North Carolina': 49,\n",
       "  'North Dakota': 2,\n",
       "  'Ohio': 12,\n",
       "  'Oklahoma': 7,\n",
       "  'Oregon': 43,\n",
       "  'Pennsylvania': 65,\n",
       "  'Rhode Island': 71,\n",
       "  'South Carolina': 50,\n",
       "  'South Dakota': 3,\n",
       "  'Tennessee': 5,\n",
       "  'Texas': 62,\n",
       "  'Utah': 3,\n",
       "  'Vermont': 60,\n",
       "  'Virginia': 65,\n",
       "  'Washington': 64,\n",
       "  'West Virginia': 14,\n",
       "  'Wisconsin': 3,\n",
       "  'Wyoming': 3},\n",
       " 'Math': {'Alabama': 5,\n",
       "  'Alaska': 38,\n",
       "  'Arizona': 30,\n",
       "  'Arkansas': 3,\n",
       "  'California': 53,\n",
       "  'Colorado': 11,\n",
       "  'Connecticut': 100,\n",
       "  'Delaware': 100,\n",
       "  'District of Columbia': 100,\n",
       "  'Florida': 83,\n",
       "  'Georgia': 61,\n",
       "  'Hawaii': 55,\n",
       "  'Idaho': 93,\n",
       "  'Illinois': 9,\n",
       "  'Indiana': 63,\n",
       "  'Iowa': 2,\n",
       "  'Kansas': 4,\n",
       "  'Kentucky': 4,\n",
       "  'Louisiana': 4,\n",
       "  'Maine': 95,\n",
       "  'Maryland': 69,\n",
       "  'Massachusetts': 76,\n",
       "  'Michigan': 100,\n",
       "  'Minnesota': 3,\n",
       "  'Mississippi': 2,\n",
       "  'Missouri': 3,\n",
       "  'Montana': 10,\n",
       "  'Nebraska': 3,\n",
       "  'Nevada': 26,\n",
       "  'New Hampshire': 96,\n",
       "  'New Jersey': 70,\n",
       "  'New Mexico': 11,\n",
       "  'New York': 67,\n",
       "  'North Carolina': 49,\n",
       "  'North Dakota': 2,\n",
       "  'Ohio': 12,\n",
       "  'Oklahoma': 7,\n",
       "  'Oregon': 43,\n",
       "  'Pennsylvania': 65,\n",
       "  'Rhode Island': 71,\n",
       "  'South Carolina': 50,\n",
       "  'South Dakota': 3,\n",
       "  'Tennessee': 5,\n",
       "  'Texas': 62,\n",
       "  'Utah': 3,\n",
       "  'Vermont': 60,\n",
       "  'Virginia': 65,\n",
       "  'Washington': 64,\n",
       "  'West Virginia': 14,\n",
       "  'Wisconsin': 3,\n",
       "  'Wyoming': 3},\n",
       " 'Participation': {'Alabama': 5,\n",
       "  'Alaska': 38,\n",
       "  'Arizona': 30,\n",
       "  'Arkansas': 3,\n",
       "  'California': 53,\n",
       "  'Colorado': 11,\n",
       "  'Connecticut': 100,\n",
       "  'Delaware': 100,\n",
       "  'District of Columbia': 100,\n",
       "  'Florida': 83,\n",
       "  'Georgia': 61,\n",
       "  'Hawaii': 55,\n",
       "  'Idaho': 93,\n",
       "  'Illinois': 9,\n",
       "  'Indiana': 63,\n",
       "  'Iowa': 2,\n",
       "  'Kansas': 4,\n",
       "  'Kentucky': 4,\n",
       "  'Louisiana': 4,\n",
       "  'Maine': 95,\n",
       "  'Maryland': 69,\n",
       "  'Massachusetts': 76,\n",
       "  'Michigan': 100,\n",
       "  'Minnesota': 3,\n",
       "  'Mississippi': 2,\n",
       "  'Missouri': 3,\n",
       "  'Montana': 10,\n",
       "  'Nebraska': 3,\n",
       "  'Nevada': 26,\n",
       "  'New Hampshire': 96,\n",
       "  'New Jersey': 70,\n",
       "  'New Mexico': 11,\n",
       "  'New York': 67,\n",
       "  'North Carolina': 49,\n",
       "  'North Dakota': 2,\n",
       "  'Ohio': 12,\n",
       "  'Oklahoma': 7,\n",
       "  'Oregon': 43,\n",
       "  'Pennsylvania': 65,\n",
       "  'Rhode Island': 71,\n",
       "  'South Carolina': 50,\n",
       "  'South Dakota': 3,\n",
       "  'Tennessee': 5,\n",
       "  'Texas': 62,\n",
       "  'Utah': 3,\n",
       "  'Vermont': 60,\n",
       "  'Virginia': 65,\n",
       "  'Washington': 64,\n",
       "  'West Virginia': 14,\n",
       "  'Wisconsin': 3,\n",
       "  'Wyoming': 3},\n",
       " 'Total': {'Alabama': 5,\n",
       "  'Alaska': 38,\n",
       "  'Arizona': 30,\n",
       "  'Arkansas': 3,\n",
       "  'California': 53,\n",
       "  'Colorado': 11,\n",
       "  'Connecticut': 100,\n",
       "  'Delaware': 100,\n",
       "  'District of Columbia': 100,\n",
       "  'Florida': 83,\n",
       "  'Georgia': 61,\n",
       "  'Hawaii': 55,\n",
       "  'Idaho': 93,\n",
       "  'Illinois': 9,\n",
       "  'Indiana': 63,\n",
       "  'Iowa': 2,\n",
       "  'Kansas': 4,\n",
       "  'Kentucky': 4,\n",
       "  'Louisiana': 4,\n",
       "  'Maine': 95,\n",
       "  'Maryland': 69,\n",
       "  'Massachusetts': 76,\n",
       "  'Michigan': 100,\n",
       "  'Minnesota': 3,\n",
       "  'Mississippi': 2,\n",
       "  'Missouri': 3,\n",
       "  'Montana': 10,\n",
       "  'Nebraska': 3,\n",
       "  'Nevada': 26,\n",
       "  'New Hampshire': 96,\n",
       "  'New Jersey': 70,\n",
       "  'New Mexico': 11,\n",
       "  'New York': 67,\n",
       "  'North Carolina': 49,\n",
       "  'North Dakota': 2,\n",
       "  'Ohio': 12,\n",
       "  'Oklahoma': 7,\n",
       "  'Oregon': 43,\n",
       "  'Pennsylvania': 65,\n",
       "  'Rhode Island': 71,\n",
       "  'South Carolina': 50,\n",
       "  'South Dakota': 3,\n",
       "  'Tennessee': 5,\n",
       "  'Texas': 62,\n",
       "  'Utah': 3,\n",
       "  'Vermont': 60,\n",
       "  'Virginia': 65,\n",
       "  'Washington': 64,\n",
       "  'West Virginia': 14,\n",
       "  'Wisconsin': 3,\n",
       "  'Wyoming': 3}}"
      ]
     },
     "execution_count": 11,
     "metadata": {},
     "output_type": "execute_result"
    }
   ],
   "source": [
    "sat_dicts"
   ]
  },
  {
   "cell_type": "markdown",
   "metadata": {},
   "source": [
    "##### 8. Create one dictionary where each key is the column name, and each value is an iterable (a list or a Pandas Series) of all the values in that column."
   ]
  },
  {
   "cell_type": "code",
   "execution_count": 12,
   "metadata": {
    "collapsed": true
   },
   "outputs": [],
   "source": [
    "act_column_dict = { c : act[c] for c in act.columns}\n",
    "sat_column_dict = { c : sat[c] for c in sat.columns}"
   ]
  },
  {
   "cell_type": "markdown",
   "metadata": {},
   "source": [
    "*Example of dict:*"
   ]
  },
  {
   "cell_type": "code",
   "execution_count": 13,
   "metadata": {},
   "outputs": [
    {
     "data": {
      "text/plain": [
       "{'Composite': 0     21.0\n",
       " 1     19.2\n",
       " 2     19.8\n",
       " 3     19.7\n",
       " 4     19.4\n",
       " 5     22.8\n",
       " 6     20.8\n",
       " 7     25.2\n",
       " 8     24.1\n",
       " 9     24.2\n",
       " 10    19.8\n",
       " 11    21.4\n",
       " 12    19.0\n",
       " 13    22.3\n",
       " 14    21.4\n",
       " 15    22.6\n",
       " 16    21.9\n",
       " 17    21.7\n",
       " 18    20.0\n",
       " 19    19.5\n",
       " 20    24.3\n",
       " 21    23.6\n",
       " 22    25.4\n",
       " 23    24.1\n",
       " 24    21.5\n",
       " 25    18.6\n",
       " 26    20.4\n",
       " 27    20.3\n",
       " 28    21.4\n",
       " 29    17.8\n",
       " 30    25.5\n",
       " 31    23.9\n",
       " 32    19.7\n",
       " 33    24.2\n",
       " 34    19.1\n",
       " 35    20.3\n",
       " 36    22.0\n",
       " 37    19.4\n",
       " 38    21.8\n",
       " 39    23.7\n",
       " 40    24.0\n",
       " 41    18.7\n",
       " 42    21.8\n",
       " 43    19.8\n",
       " 44    20.7\n",
       " 45    20.3\n",
       " 46    23.6\n",
       " 47    23.8\n",
       " 48    21.9\n",
       " 49    20.4\n",
       " 50    20.5\n",
       " 51    20.2\n",
       " Name: Composite, dtype: float64, 'English': 0     20.3\n",
       " 1     18.9\n",
       " 2     18.7\n",
       " 3     18.6\n",
       " 4     18.9\n",
       " 5     22.5\n",
       " 6     20.1\n",
       " 7     25.5\n",
       " 8     24.1\n",
       " 9     24.4\n",
       " 10    19.0\n",
       " 11    21.0\n",
       " 12    17.8\n",
       " 13    21.9\n",
       " 14    21.0\n",
       " 15    22.0\n",
       " 16    21.2\n",
       " 17    21.1\n",
       " 18    19.6\n",
       " 19    19.4\n",
       " 20    24.2\n",
       " 21    23.3\n",
       " 22    25.4\n",
       " 23    24.1\n",
       " 24    20.4\n",
       " 25    18.2\n",
       " 26    19.8\n",
       " 27    19.0\n",
       " 28    20.9\n",
       " 29    16.3\n",
       " 30    25.4\n",
       " 31    23.8\n",
       " 32    18.6\n",
       " 33    23.8\n",
       " 34    17.8\n",
       " 35    19.0\n",
       " 36    21.2\n",
       " 37    18.5\n",
       " 38    21.2\n",
       " 39    23.4\n",
       " 40    24.0\n",
       " 41    17.5\n",
       " 42    20.7\n",
       " 43    19.5\n",
       " 44    19.5\n",
       " 45    19.5\n",
       " 46    23.3\n",
       " 47    23.5\n",
       " 48    20.9\n",
       " 49    20.0\n",
       " 50    19.7\n",
       " 51    19.4\n",
       " Name: English, dtype: float64, 'Math': 0     20.7\n",
       " 1     18.4\n",
       " 2     19.8\n",
       " 3     19.8\n",
       " 4     19.0\n",
       " 5     22.7\n",
       " 6     20.3\n",
       " 7     24.6\n",
       " 8     23.4\n",
       " 9     23.5\n",
       " 10    19.4\n",
       " 11    20.9\n",
       " 12    19.2\n",
       " 13    21.8\n",
       " 14    21.2\n",
       " 15    22.4\n",
       " 16    21.3\n",
       " 17    21.3\n",
       " 18    19.4\n",
       " 19    18.8\n",
       " 20    24.0\n",
       " 21    23.1\n",
       " 22    25.3\n",
       " 23    23.7\n",
       " 24    21.5\n",
       " 25    18.1\n",
       " 26    19.9\n",
       " 27    20.2\n",
       " 28    20.9\n",
       " 29    18.0\n",
       " 30    25.1\n",
       " 31    23.8\n",
       " 32    19.4\n",
       " 33    24.0\n",
       " 34    19.3\n",
       " 35    20.4\n",
       " 36    21.6\n",
       " 37    18.8\n",
       " 38    21.5\n",
       " 39    23.4\n",
       " 40    23.3\n",
       " 41    18.6\n",
       " 42    21.5\n",
       " 43    19.2\n",
       " 44    20.7\n",
       " 45    19.9\n",
       " 46    23.1\n",
       " 47    23.3\n",
       " 48    21.9\n",
       " 49    19.4\n",
       " 50    20.4\n",
       " 51    19.8\n",
       " Name: Math, dtype: float64, 'Participation': 0      60\n",
       " 1     100\n",
       " 2      65\n",
       " 3      62\n",
       " 4     100\n",
       " 5      31\n",
       " 6     100\n",
       " 7      31\n",
       " 8      18\n",
       " 9      32\n",
       " 10     73\n",
       " 11     55\n",
       " 12     90\n",
       " 13     38\n",
       " 14     93\n",
       " 15     35\n",
       " 16     67\n",
       " 17     73\n",
       " 18    100\n",
       " 19    100\n",
       " 20      8\n",
       " 21     28\n",
       " 22     29\n",
       " 23     29\n",
       " 24    100\n",
       " 25    100\n",
       " 26    100\n",
       " 27    100\n",
       " 28     84\n",
       " 29    100\n",
       " 30     18\n",
       " 31     34\n",
       " 32     66\n",
       " 33     31\n",
       " 34    100\n",
       " 35     98\n",
       " 36     75\n",
       " 37    100\n",
       " 38     40\n",
       " 39     23\n",
       " 40     21\n",
       " 41    100\n",
       " 42     80\n",
       " 43    100\n",
       " 44     45\n",
       " 45    100\n",
       " 46     29\n",
       " 47     29\n",
       " 48     29\n",
       " 49     69\n",
       " 50    100\n",
       " 51    100\n",
       " Name: Participation, dtype: int32, 'Reading': 0     21.4\n",
       " 1     19.7\n",
       " 2     20.4\n",
       " 3     20.1\n",
       " 4     19.7\n",
       " 5     23.1\n",
       " 6     21.2\n",
       " 7     25.6\n",
       " 8     24.8\n",
       " 9     24.9\n",
       " 10    21.0\n",
       " 11    22.0\n",
       " 12    19.2\n",
       " 13    23.0\n",
       " 14    21.6\n",
       " 15    23.2\n",
       " 16    22.6\n",
       " 17    22.3\n",
       " 18    20.5\n",
       " 19    19.8\n",
       " 20    24.8\n",
       " 21    24.2\n",
       " 22    25.9\n",
       " 23    24.5\n",
       " 24    21.8\n",
       " 25    18.8\n",
       " 26    20.8\n",
       " 27    21.0\n",
       " 28    21.9\n",
       " 29    18.1\n",
       " 30    26.0\n",
       " 31    24.1\n",
       " 32    20.4\n",
       " 33    24.6\n",
       " 34    19.6\n",
       " 35    20.5\n",
       " 36    22.5\n",
       " 37    20.1\n",
       " 38    22.4\n",
       " 39    24.2\n",
       " 40    24.7\n",
       " 41    19.1\n",
       " 42    22.3\n",
       " 43    20.1\n",
       " 44    21.1\n",
       " 45    20.8\n",
       " 46    24.4\n",
       " 47    24.6\n",
       " 48    22.1\n",
       " 49    21.2\n",
       " 50    20.6\n",
       " 51    20.8\n",
       " Name: Reading, dtype: float64, 'Science': 0     21.0\n",
       " 1     19.4\n",
       " 2     19.9\n",
       " 3     19.8\n",
       " 4     19.5\n",
       " 5     22.2\n",
       " 6     20.9\n",
       " 7     24.6\n",
       " 8     23.6\n",
       " 9     23.5\n",
       " 10    19.4\n",
       " 11    21.3\n",
       " 12    19.3\n",
       " 13    22.1\n",
       " 14    21.3\n",
       " 15    22.3\n",
       " 16    22.1\n",
       " 17    21.7\n",
       " 18    20.1\n",
       " 19    19.6\n",
       " 20    23.7\n",
       " 21    23.2\n",
       " 22    24.7\n",
       " 23    23.8\n",
       " 24    21.6\n",
       " 25    18.8\n",
       " 26    20.5\n",
       " 27    20.5\n",
       " 28    21.5\n",
       " 29    18.2\n",
       " 30    24.9\n",
       " 31    23.2\n",
       " 32    20.0\n",
       " 33    23.9\n",
       " 34    19.3\n",
       " 35    20.6\n",
       " 36    22.0\n",
       " 37    19.6\n",
       " 38    21.7\n",
       " 39    23.3\n",
       " 40    23.4\n",
       " 41    18.9\n",
       " 42    22.0\n",
       " 43    19.9\n",
       " 44    20.9\n",
       " 45    20.6\n",
       " 46    23.2\n",
       " 47    23.5\n",
       " 48    22.0\n",
       " 49    20.5\n",
       " 50    20.9\n",
       " 51    20.6\n",
       " Name: Science, dtype: float64, 'State': 0                 National\n",
       " 1                  Alabama\n",
       " 2                   Alaska\n",
       " 3                  Arizona\n",
       " 4                 Arkansas\n",
       " 5               California\n",
       " 6                 Colorado\n",
       " 7              Connecticut\n",
       " 8                 Delaware\n",
       " 9     District of Columbia\n",
       " 10                 Florida\n",
       " 11                 Georgia\n",
       " 12                  Hawaii\n",
       " 13                   Idaho\n",
       " 14                Illinois\n",
       " 15                 Indiana\n",
       " 16                    Iowa\n",
       " 17                  Kansas\n",
       " 18                Kentucky\n",
       " 19               Louisiana\n",
       " 20                   Maine\n",
       " 21                Maryland\n",
       " 22           Massachusetts\n",
       " 23                Michigan\n",
       " 24               Minnesota\n",
       " 25             Mississippi\n",
       " 26                Missouri\n",
       " 27                 Montana\n",
       " 28                Nebraska\n",
       " 29                  Nevada\n",
       " 30           New Hampshire\n",
       " 31              New Jersey\n",
       " 32              New Mexico\n",
       " 33                New York\n",
       " 34          North Carolina\n",
       " 35            North Dakota\n",
       " 36                    Ohio\n",
       " 37                Oklahoma\n",
       " 38                  Oregon\n",
       " 39            Pennsylvania\n",
       " 40            Rhode Island\n",
       " 41          South Carolina\n",
       " 42            South Dakota\n",
       " 43               Tennessee\n",
       " 44                   Texas\n",
       " 45                    Utah\n",
       " 46                 Vermont\n",
       " 47                Virginia\n",
       " 48              Washington\n",
       " 49           West Virginia\n",
       " 50               Wisconsin\n",
       " 51                 Wyoming\n",
       " Name: State, dtype: object}"
      ]
     },
     "execution_count": 13,
     "metadata": {},
     "output_type": "execute_result"
    }
   ],
   "source": [
    "act_column_dict"
   ]
  },
  {
   "cell_type": "markdown",
   "metadata": {},
   "source": [
    "##### 9. Merge the dataframes on the state column."
   ]
  },
  {
   "cell_type": "code",
   "execution_count": 14,
   "metadata": {},
   "outputs": [
    {
     "name": "stdout",
     "output_type": "stream",
     "text": [
      "        State  Participation_SAT  Evidence-Based Reading and Writing  \\\n",
      "0     Alabama                  5                                 593   \n",
      "1      Alaska                 38                                 547   \n",
      "2     Arizona                 30                                 563   \n",
      "3    Arkansas                  3                                 614   \n",
      "4  California                 53                                 531   \n",
      "\n",
      "   Math_SAT  Total  Participation_ACT  English  Math_ACT  Reading  Science  \\\n",
      "0       572   1165                100     18.9      18.4     19.7     19.4   \n",
      "1       533   1080                 65     18.7      19.8     20.4     19.9   \n",
      "2       553   1116                 62     18.6      19.8     20.1     19.8   \n",
      "3       594   1208                100     18.9      19.0     19.7     19.5   \n",
      "4       524   1055                 31     22.5      22.7     23.1     22.2   \n",
      "\n",
      "   Composite  \n",
      "0       19.2  \n",
      "1       19.8  \n",
      "2       19.7  \n",
      "3       19.4  \n",
      "4       22.8  \n",
      "<class 'pandas.core.frame.DataFrame'>\n",
      "Int64Index: 51 entries, 0 to 50\n",
      "Data columns (total 11 columns):\n",
      "State                                 51 non-null object\n",
      "Participation_SAT                     51 non-null int32\n",
      "Evidence-Based Reading and Writing    51 non-null int64\n",
      "Math_SAT                              51 non-null int64\n",
      "Total                                 51 non-null int64\n",
      "Participation_ACT                     51 non-null int32\n",
      "English                               51 non-null float64\n",
      "Math_ACT                              51 non-null float64\n",
      "Reading                               51 non-null float64\n",
      "Science                               51 non-null float64\n",
      "Composite                             51 non-null float64\n",
      "dtypes: float64(5), int32(2), int64(3), object(1)\n",
      "memory usage: 4.4+ KB\n",
      "None\n"
     ]
    }
   ],
   "source": [
    "# Inner Join will dispense of \"National\" Entry\n",
    "comb= sat.merge(act, on = 'State', suffixes= ('_SAT', '_ACT'))\n",
    "\n",
    "print(comb.head())\n",
    "print(comb.info())"
   ]
  },
  {
   "cell_type": "markdown",
   "metadata": {},
   "source": [
    "##### 10. Change the names of the columns so you can distinguish between the SAT columns and the ACT columns."
   ]
  },
  {
   "cell_type": "code",
   "execution_count": 15,
   "metadata": {
    "collapsed": true
   },
   "outputs": [],
   "source": [
    "comb = comb.rename( columns= {})\n",
    "c = list(comb.columns)\n",
    "\n",
    "c[2] = 'Reading_SAT'\n",
    "c[4] = 'Total_SAT'\n",
    "\n",
    "for i in [6,8,9,10]:\n",
    "    c[i] = c[i]+'_ACT'\n",
    "comb.columns = c"
   ]
  },
  {
   "cell_type": "markdown",
   "metadata": {},
   "source": [
    "##### 11. Print the minimum and maximum of each numeric column in the data frame."
   ]
  },
  {
   "cell_type": "code",
   "execution_count": 16,
   "metadata": {},
   "outputs": [
    {
     "data": {
      "text/html": [
       "<div>\n",
       "<style>\n",
       "    .dataframe thead tr:only-child th {\n",
       "        text-align: right;\n",
       "    }\n",
       "\n",
       "    .dataframe thead th {\n",
       "        text-align: left;\n",
       "    }\n",
       "\n",
       "    .dataframe tbody tr th {\n",
       "        vertical-align: top;\n",
       "    }\n",
       "</style>\n",
       "<table border=\"1\" class=\"dataframe\">\n",
       "  <thead>\n",
       "    <tr style=\"text-align: right;\">\n",
       "      <th></th>\n",
       "      <th>Participation_SAT</th>\n",
       "      <th>Reading_SAT</th>\n",
       "      <th>Math_SAT</th>\n",
       "      <th>Total_SAT</th>\n",
       "      <th>Participation_ACT</th>\n",
       "      <th>English_ACT</th>\n",
       "      <th>Math_ACT</th>\n",
       "      <th>Reading_ACT</th>\n",
       "      <th>Science_ACT</th>\n",
       "      <th>Composite_ACT</th>\n",
       "    </tr>\n",
       "  </thead>\n",
       "  <tbody>\n",
       "    <tr>\n",
       "      <th>min</th>\n",
       "      <td>2.0</td>\n",
       "      <td>482.0</td>\n",
       "      <td>468.0</td>\n",
       "      <td>950.0</td>\n",
       "      <td>8.0</td>\n",
       "      <td>16.3</td>\n",
       "      <td>18.0</td>\n",
       "      <td>18.1</td>\n",
       "      <td>18.2</td>\n",
       "      <td>17.8</td>\n",
       "    </tr>\n",
       "    <tr>\n",
       "      <th>max</th>\n",
       "      <td>100.0</td>\n",
       "      <td>644.0</td>\n",
       "      <td>651.0</td>\n",
       "      <td>1295.0</td>\n",
       "      <td>100.0</td>\n",
       "      <td>25.5</td>\n",
       "      <td>25.3</td>\n",
       "      <td>26.0</td>\n",
       "      <td>24.9</td>\n",
       "      <td>25.5</td>\n",
       "    </tr>\n",
       "  </tbody>\n",
       "</table>\n",
       "</div>"
      ],
      "text/plain": [
       "     Participation_SAT  Reading_SAT  Math_SAT  Total_SAT  Participation_ACT  \\\n",
       "min                2.0        482.0     468.0      950.0                8.0   \n",
       "max              100.0        644.0     651.0     1295.0              100.0   \n",
       "\n",
       "     English_ACT  Math_ACT  Reading_ACT  Science_ACT  Composite_ACT  \n",
       "min         16.3      18.0         18.1         18.2           17.8  \n",
       "max         25.5      25.3         26.0         24.9           25.5  "
      ]
     },
     "execution_count": 16,
     "metadata": {},
     "output_type": "execute_result"
    }
   ],
   "source": [
    "comb.describe().loc[['min','max']]"
   ]
  },
  {
   "cell_type": "markdown",
   "metadata": {},
   "source": [
    "##### 12. Write a function using only list comprehensions, no loops, to compute standard deviation. Using this function, calculate the standard deviation of each numeric column in both data sets. Add these to a list called `sd`.\n",
    "\n",
    "$$\\sigma = \\sqrt{\\frac{1}{n}\\sum_{i=1}^n(x_i - \\mu)^2}$$"
   ]
  },
  {
   "cell_type": "code",
   "execution_count": 17,
   "metadata": {},
   "outputs": [
    {
     "data": {
      "text/plain": [
       "[34.929070766645083,\n",
       " 45.216970204378661,\n",
       " 46.65713364485503,\n",
       " 91.583510567787428,\n",
       " 31.824175751231806,\n",
       " 2.3304876369363363,\n",
       " 1.9624620273436781,\n",
       " 2.0469029314842646,\n",
       " 1.7222161451443676,\n",
       " 2.0007860815819889]"
      ]
     },
     "execution_count": 17,
     "metadata": {},
     "output_type": "execute_result"
    }
   ],
   "source": [
    "def standard_deviation(lst):\n",
    "    diff_sq = [(s-lst.mean())**2 for s in lst]\n",
    "    \n",
    "    return ( (1 / len(lst) ) * sum(diff_sq) ) ** (1/2)\n",
    "\n",
    "sd = [standard_deviation(comb[s]) for s in comb if comb[s].dtype != 'O']\n",
    "sd"
   ]
  },
  {
   "cell_type": "markdown",
   "metadata": {},
   "source": [
    "## Step 2: Manipulate the dataframe"
   ]
  },
  {
   "cell_type": "markdown",
   "metadata": {},
   "source": [
    "##### 13. Turn the list `sd` into a new observation in your dataset."
   ]
  },
  {
   "cell_type": "code",
   "execution_count": 18,
   "metadata": {
    "scrolled": true
   },
   "outputs": [
    {
     "data": {
      "text/html": [
       "<div>\n",
       "<style>\n",
       "    .dataframe thead tr:only-child th {\n",
       "        text-align: right;\n",
       "    }\n",
       "\n",
       "    .dataframe thead th {\n",
       "        text-align: left;\n",
       "    }\n",
       "\n",
       "    .dataframe tbody tr th {\n",
       "        vertical-align: top;\n",
       "    }\n",
       "</style>\n",
       "<table border=\"1\" class=\"dataframe\">\n",
       "  <thead>\n",
       "    <tr style=\"text-align: right;\">\n",
       "      <th></th>\n",
       "      <th>State</th>\n",
       "      <th>Participation_SAT</th>\n",
       "      <th>Reading_SAT</th>\n",
       "      <th>Math_SAT</th>\n",
       "      <th>Total_SAT</th>\n",
       "      <th>Participation_ACT</th>\n",
       "      <th>English_ACT</th>\n",
       "      <th>Math_ACT</th>\n",
       "      <th>Reading_ACT</th>\n",
       "      <th>Science_ACT</th>\n",
       "      <th>Composite_ACT</th>\n",
       "    </tr>\n",
       "  </thead>\n",
       "  <tbody>\n",
       "    <tr>\n",
       "      <th>47</th>\n",
       "      <td>Washington</td>\n",
       "      <td>64.00</td>\n",
       "      <td>541.00</td>\n",
       "      <td>534.00</td>\n",
       "      <td>1075.00</td>\n",
       "      <td>29.00</td>\n",
       "      <td>20.90</td>\n",
       "      <td>21.90</td>\n",
       "      <td>22.10</td>\n",
       "      <td>22.00</td>\n",
       "      <td>21.9</td>\n",
       "    </tr>\n",
       "    <tr>\n",
       "      <th>48</th>\n",
       "      <td>West Virginia</td>\n",
       "      <td>14.00</td>\n",
       "      <td>558.00</td>\n",
       "      <td>528.00</td>\n",
       "      <td>1086.00</td>\n",
       "      <td>69.00</td>\n",
       "      <td>20.00</td>\n",
       "      <td>19.40</td>\n",
       "      <td>21.20</td>\n",
       "      <td>20.50</td>\n",
       "      <td>20.4</td>\n",
       "    </tr>\n",
       "    <tr>\n",
       "      <th>49</th>\n",
       "      <td>Wisconsin</td>\n",
       "      <td>3.00</td>\n",
       "      <td>642.00</td>\n",
       "      <td>649.00</td>\n",
       "      <td>1291.00</td>\n",
       "      <td>100.00</td>\n",
       "      <td>19.70</td>\n",
       "      <td>20.40</td>\n",
       "      <td>20.60</td>\n",
       "      <td>20.90</td>\n",
       "      <td>20.5</td>\n",
       "    </tr>\n",
       "    <tr>\n",
       "      <th>50</th>\n",
       "      <td>Wyoming</td>\n",
       "      <td>3.00</td>\n",
       "      <td>626.00</td>\n",
       "      <td>604.00</td>\n",
       "      <td>1230.00</td>\n",
       "      <td>100.00</td>\n",
       "      <td>19.40</td>\n",
       "      <td>19.80</td>\n",
       "      <td>20.80</td>\n",
       "      <td>20.60</td>\n",
       "      <td>20.2</td>\n",
       "    </tr>\n",
       "    <tr>\n",
       "      <th>sd</th>\n",
       "      <td>National</td>\n",
       "      <td>34.93</td>\n",
       "      <td>45.22</td>\n",
       "      <td>46.66</td>\n",
       "      <td>91.58</td>\n",
       "      <td>31.82</td>\n",
       "      <td>2.33</td>\n",
       "      <td>1.96</td>\n",
       "      <td>2.05</td>\n",
       "      <td>1.72</td>\n",
       "      <td>2.0</td>\n",
       "    </tr>\n",
       "  </tbody>\n",
       "</table>\n",
       "</div>"
      ],
      "text/plain": [
       "            State  Participation_SAT  Reading_SAT  Math_SAT  Total_SAT  \\\n",
       "47     Washington              64.00       541.00    534.00    1075.00   \n",
       "48  West Virginia              14.00       558.00    528.00    1086.00   \n",
       "49      Wisconsin               3.00       642.00    649.00    1291.00   \n",
       "50        Wyoming               3.00       626.00    604.00    1230.00   \n",
       "sd       National              34.93        45.22     46.66      91.58   \n",
       "\n",
       "    Participation_ACT  English_ACT  Math_ACT  Reading_ACT  Science_ACT  \\\n",
       "47              29.00        20.90     21.90        22.10        22.00   \n",
       "48              69.00        20.00     19.40        21.20        20.50   \n",
       "49             100.00        19.70     20.40        20.60        20.90   \n",
       "50             100.00        19.40     19.80        20.80        20.60   \n",
       "sd              31.82         2.33      1.96         2.05         1.72   \n",
       "\n",
       "    Composite_ACT  \n",
       "47           21.9  \n",
       "48           20.4  \n",
       "49           20.5  \n",
       "50           20.2  \n",
       "sd            2.0  "
      ]
     },
     "execution_count": 18,
     "metadata": {},
     "output_type": "execute_result"
    }
   ],
   "source": [
    "sd.insert(0,'National')\n",
    "\n",
    "comb.loc['sd'] = sd\n",
    "\n",
    "comb = comb.round(2)\n",
    "comb.tail()"
   ]
  },
  {
   "cell_type": "markdown",
   "metadata": {},
   "source": [
    "##### 14. Sort the dataframe by the values in a numeric column (e.g. observations descending by SAT participation rate)"
   ]
  },
  {
   "cell_type": "code",
   "execution_count": 19,
   "metadata": {},
   "outputs": [
    {
     "data": {
      "text/html": [
       "<div>\n",
       "<style>\n",
       "    .dataframe thead tr:only-child th {\n",
       "        text-align: right;\n",
       "    }\n",
       "\n",
       "    .dataframe thead th {\n",
       "        text-align: left;\n",
       "    }\n",
       "\n",
       "    .dataframe tbody tr th {\n",
       "        vertical-align: top;\n",
       "    }\n",
       "</style>\n",
       "<table border=\"1\" class=\"dataframe\">\n",
       "  <thead>\n",
       "    <tr style=\"text-align: right;\">\n",
       "      <th></th>\n",
       "      <th>State</th>\n",
       "      <th>Participation_SAT</th>\n",
       "      <th>Reading_SAT</th>\n",
       "      <th>Math_SAT</th>\n",
       "      <th>Total_SAT</th>\n",
       "      <th>Participation_ACT</th>\n",
       "      <th>English_ACT</th>\n",
       "      <th>Math_ACT</th>\n",
       "      <th>Reading_ACT</th>\n",
       "      <th>Science_ACT</th>\n",
       "      <th>Composite_ACT</th>\n",
       "    </tr>\n",
       "  </thead>\n",
       "  <tbody>\n",
       "    <tr>\n",
       "      <th>sd</th>\n",
       "      <td>National</td>\n",
       "      <td>34.93</td>\n",
       "      <td>45.22</td>\n",
       "      <td>46.66</td>\n",
       "      <td>91.58</td>\n",
       "      <td>31.82</td>\n",
       "      <td>2.33</td>\n",
       "      <td>1.96</td>\n",
       "      <td>2.05</td>\n",
       "      <td>1.72</td>\n",
       "      <td>2.0</td>\n",
       "    </tr>\n",
       "    <tr>\n",
       "      <th>8</th>\n",
       "      <td>District of Columbia</td>\n",
       "      <td>100.00</td>\n",
       "      <td>482.00</td>\n",
       "      <td>468.00</td>\n",
       "      <td>950.00</td>\n",
       "      <td>32.00</td>\n",
       "      <td>24.40</td>\n",
       "      <td>23.50</td>\n",
       "      <td>24.90</td>\n",
       "      <td>23.50</td>\n",
       "      <td>24.2</td>\n",
       "    </tr>\n",
       "    <tr>\n",
       "      <th>7</th>\n",
       "      <td>Delaware</td>\n",
       "      <td>100.00</td>\n",
       "      <td>503.00</td>\n",
       "      <td>492.00</td>\n",
       "      <td>996.00</td>\n",
       "      <td>18.00</td>\n",
       "      <td>24.10</td>\n",
       "      <td>23.40</td>\n",
       "      <td>24.80</td>\n",
       "      <td>23.60</td>\n",
       "      <td>24.1</td>\n",
       "    </tr>\n",
       "    <tr>\n",
       "      <th>12</th>\n",
       "      <td>Idaho</td>\n",
       "      <td>93.00</td>\n",
       "      <td>513.00</td>\n",
       "      <td>493.00</td>\n",
       "      <td>1005.00</td>\n",
       "      <td>38.00</td>\n",
       "      <td>21.90</td>\n",
       "      <td>21.80</td>\n",
       "      <td>23.00</td>\n",
       "      <td>22.10</td>\n",
       "      <td>22.3</td>\n",
       "    </tr>\n",
       "    <tr>\n",
       "      <th>22</th>\n",
       "      <td>Michigan</td>\n",
       "      <td>100.00</td>\n",
       "      <td>509.00</td>\n",
       "      <td>495.00</td>\n",
       "      <td>1005.00</td>\n",
       "      <td>29.00</td>\n",
       "      <td>24.10</td>\n",
       "      <td>23.70</td>\n",
       "      <td>24.50</td>\n",
       "      <td>23.80</td>\n",
       "      <td>24.1</td>\n",
       "    </tr>\n",
       "  </tbody>\n",
       "</table>\n",
       "</div>"
      ],
      "text/plain": [
       "                   State  Participation_SAT  Reading_SAT  Math_SAT  Total_SAT  \\\n",
       "sd              National              34.93        45.22     46.66      91.58   \n",
       "8   District of Columbia             100.00       482.00    468.00     950.00   \n",
       "7               Delaware             100.00       503.00    492.00     996.00   \n",
       "12                 Idaho              93.00       513.00    493.00    1005.00   \n",
       "22              Michigan             100.00       509.00    495.00    1005.00   \n",
       "\n",
       "    Participation_ACT  English_ACT  Math_ACT  Reading_ACT  Science_ACT  \\\n",
       "sd              31.82         2.33      1.96         2.05         1.72   \n",
       "8               32.00        24.40     23.50        24.90        23.50   \n",
       "7               18.00        24.10     23.40        24.80        23.60   \n",
       "12              38.00        21.90     21.80        23.00        22.10   \n",
       "22              29.00        24.10     23.70        24.50        23.80   \n",
       "\n",
       "    Composite_ACT  \n",
       "sd            2.0  \n",
       "8            24.2  \n",
       "7            24.1  \n",
       "12           22.3  \n",
       "22           24.1  "
      ]
     },
     "execution_count": 19,
     "metadata": {},
     "output_type": "execute_result"
    }
   ],
   "source": [
    "comb.sort_values('Math_SAT').head()"
   ]
  },
  {
   "cell_type": "markdown",
   "metadata": {},
   "source": [
    "##### 15. Use a boolean filter to display only observations with a score above a certain threshold (e.g. only states with a participation rate above 50%)"
   ]
  },
  {
   "cell_type": "code",
   "execution_count": 20,
   "metadata": {},
   "outputs": [
    {
     "data": {
      "text/html": [
       "<div>\n",
       "<style>\n",
       "    .dataframe thead tr:only-child th {\n",
       "        text-align: right;\n",
       "    }\n",
       "\n",
       "    .dataframe thead th {\n",
       "        text-align: left;\n",
       "    }\n",
       "\n",
       "    .dataframe tbody tr th {\n",
       "        vertical-align: top;\n",
       "    }\n",
       "</style>\n",
       "<table border=\"1\" class=\"dataframe\">\n",
       "  <thead>\n",
       "    <tr style=\"text-align: right;\">\n",
       "      <th></th>\n",
       "      <th>State</th>\n",
       "      <th>Participation_SAT</th>\n",
       "      <th>Reading_SAT</th>\n",
       "      <th>Math_SAT</th>\n",
       "      <th>Total_SAT</th>\n",
       "      <th>Participation_ACT</th>\n",
       "      <th>English_ACT</th>\n",
       "      <th>Math_ACT</th>\n",
       "      <th>Reading_ACT</th>\n",
       "      <th>Science_ACT</th>\n",
       "      <th>Composite_ACT</th>\n",
       "    </tr>\n",
       "  </thead>\n",
       "  <tbody>\n",
       "    <tr>\n",
       "      <th>6</th>\n",
       "      <td>Connecticut</td>\n",
       "      <td>100.0</td>\n",
       "      <td>530.0</td>\n",
       "      <td>512.0</td>\n",
       "      <td>1041.0</td>\n",
       "      <td>31.0</td>\n",
       "      <td>25.5</td>\n",
       "      <td>24.6</td>\n",
       "      <td>25.6</td>\n",
       "      <td>24.6</td>\n",
       "      <td>25.2</td>\n",
       "    </tr>\n",
       "    <tr>\n",
       "      <th>7</th>\n",
       "      <td>Delaware</td>\n",
       "      <td>100.0</td>\n",
       "      <td>503.0</td>\n",
       "      <td>492.0</td>\n",
       "      <td>996.0</td>\n",
       "      <td>18.0</td>\n",
       "      <td>24.1</td>\n",
       "      <td>23.4</td>\n",
       "      <td>24.8</td>\n",
       "      <td>23.6</td>\n",
       "      <td>24.1</td>\n",
       "    </tr>\n",
       "    <tr>\n",
       "      <th>8</th>\n",
       "      <td>District of Columbia</td>\n",
       "      <td>100.0</td>\n",
       "      <td>482.0</td>\n",
       "      <td>468.0</td>\n",
       "      <td>950.0</td>\n",
       "      <td>32.0</td>\n",
       "      <td>24.4</td>\n",
       "      <td>23.5</td>\n",
       "      <td>24.9</td>\n",
       "      <td>23.5</td>\n",
       "      <td>24.2</td>\n",
       "    </tr>\n",
       "    <tr>\n",
       "      <th>9</th>\n",
       "      <td>Florida</td>\n",
       "      <td>83.0</td>\n",
       "      <td>520.0</td>\n",
       "      <td>497.0</td>\n",
       "      <td>1017.0</td>\n",
       "      <td>73.0</td>\n",
       "      <td>19.0</td>\n",
       "      <td>19.4</td>\n",
       "      <td>21.0</td>\n",
       "      <td>19.4</td>\n",
       "      <td>19.8</td>\n",
       "    </tr>\n",
       "    <tr>\n",
       "      <th>12</th>\n",
       "      <td>Idaho</td>\n",
       "      <td>93.0</td>\n",
       "      <td>513.0</td>\n",
       "      <td>493.0</td>\n",
       "      <td>1005.0</td>\n",
       "      <td>38.0</td>\n",
       "      <td>21.9</td>\n",
       "      <td>21.8</td>\n",
       "      <td>23.0</td>\n",
       "      <td>22.1</td>\n",
       "      <td>22.3</td>\n",
       "    </tr>\n",
       "    <tr>\n",
       "      <th>19</th>\n",
       "      <td>Maine</td>\n",
       "      <td>95.0</td>\n",
       "      <td>513.0</td>\n",
       "      <td>499.0</td>\n",
       "      <td>1012.0</td>\n",
       "      <td>8.0</td>\n",
       "      <td>24.2</td>\n",
       "      <td>24.0</td>\n",
       "      <td>24.8</td>\n",
       "      <td>23.7</td>\n",
       "      <td>24.3</td>\n",
       "    </tr>\n",
       "    <tr>\n",
       "      <th>22</th>\n",
       "      <td>Michigan</td>\n",
       "      <td>100.0</td>\n",
       "      <td>509.0</td>\n",
       "      <td>495.0</td>\n",
       "      <td>1005.0</td>\n",
       "      <td>29.0</td>\n",
       "      <td>24.1</td>\n",
       "      <td>23.7</td>\n",
       "      <td>24.5</td>\n",
       "      <td>23.8</td>\n",
       "      <td>24.1</td>\n",
       "    </tr>\n",
       "    <tr>\n",
       "      <th>29</th>\n",
       "      <td>New Hampshire</td>\n",
       "      <td>96.0</td>\n",
       "      <td>532.0</td>\n",
       "      <td>520.0</td>\n",
       "      <td>1052.0</td>\n",
       "      <td>18.0</td>\n",
       "      <td>25.4</td>\n",
       "      <td>25.1</td>\n",
       "      <td>26.0</td>\n",
       "      <td>24.9</td>\n",
       "      <td>25.5</td>\n",
       "    </tr>\n",
       "  </tbody>\n",
       "</table>\n",
       "</div>"
      ],
      "text/plain": [
       "                   State  Participation_SAT  Reading_SAT  Math_SAT  Total_SAT  \\\n",
       "6            Connecticut              100.0        530.0     512.0     1041.0   \n",
       "7               Delaware              100.0        503.0     492.0      996.0   \n",
       "8   District of Columbia              100.0        482.0     468.0      950.0   \n",
       "9                Florida               83.0        520.0     497.0     1017.0   \n",
       "12                 Idaho               93.0        513.0     493.0     1005.0   \n",
       "19                 Maine               95.0        513.0     499.0     1012.0   \n",
       "22              Michigan              100.0        509.0     495.0     1005.0   \n",
       "29         New Hampshire               96.0        532.0     520.0     1052.0   \n",
       "\n",
       "    Participation_ACT  English_ACT  Math_ACT  Reading_ACT  Science_ACT  \\\n",
       "6                31.0         25.5      24.6         25.6         24.6   \n",
       "7                18.0         24.1      23.4         24.8         23.6   \n",
       "8                32.0         24.4      23.5         24.9         23.5   \n",
       "9                73.0         19.0      19.4         21.0         19.4   \n",
       "12               38.0         21.9      21.8         23.0         22.1   \n",
       "19                8.0         24.2      24.0         24.8         23.7   \n",
       "22               29.0         24.1      23.7         24.5         23.8   \n",
       "29               18.0         25.4      25.1         26.0         24.9   \n",
       "\n",
       "    Composite_ACT  \n",
       "6            25.2  \n",
       "7            24.1  \n",
       "8            24.2  \n",
       "9            19.8  \n",
       "12           22.3  \n",
       "19           24.3  \n",
       "22           24.1  \n",
       "29           25.5  "
      ]
     },
     "execution_count": 20,
     "metadata": {},
     "output_type": "execute_result"
    }
   ],
   "source": [
    "comb[comb['Participation_SAT'] > 80]"
   ]
  },
  {
   "cell_type": "markdown",
   "metadata": {},
   "source": [
    "## Step 3: Visualize the data"
   ]
  },
  {
   "cell_type": "markdown",
   "metadata": {
    "collapsed": true
   },
   "source": [
    "##### 16. Using MatPlotLib and PyPlot, plot the distribution of the Rate columns for both SAT and ACT using histograms. (You should have two histograms. You might find [this link](https://matplotlib.org/users/pyplot_tutorial.html#working-with-multiple-figures-and-axes) helpful in organizing one plot above the other.) "
   ]
  },
  {
   "cell_type": "code",
   "execution_count": 21,
   "metadata": {
    "collapsed": true
   },
   "outputs": [],
   "source": [
    "comb = comb.drop(['sd'])"
   ]
  },
  {
   "cell_type": "code",
   "execution_count": 22,
   "metadata": {
    "scrolled": true
   },
   "outputs": [
    {
     "data": {
      "image/png": "[encoded data removed]",
      "text/plain": [
       "<matplotlib.figure.Figure at 0x1f3fd403860>"
      ]
     },
     "metadata": {},
     "output_type": "display_data"
    }
   ],
   "source": [
    "plt.figure(1)\n",
    "plt.subplot(121)\n",
    "plt.title('SAT')\n",
    "comb.Participation_SAT.hist()\n",
    "\n",
    "plt.subplot(122)\n",
    "plt.title('ACT')\n",
    "comb.Participation_ACT.hist()\n",
    "plt.suptitle('Participation Rate')\n",
    "plt.show()"
   ]
  },
  {
   "cell_type": "markdown",
   "metadata": {},
   "source": [
    "##### 17. Plot the Math(s) distributions from both data sets."
   ]
  },
  {
   "cell_type": "code",
   "execution_count": 23,
   "metadata": {},
   "outputs": [
    {
     "data": {
      "image/png": "[encoded data removed]",
      "text/plain": [
       "<matplotlib.figure.Figure at 0x1f3fe836ba8>"
      ]
     },
     "metadata": {},
     "output_type": "display_data"
    }
   ],
   "source": [
    "plt.figure(1)\n",
    "plt.subplot(121)\n",
    "plt.title('SAT')\n",
    "comb.Math_SAT.hist()\n",
    "\n",
    "plt.subplot(122)\n",
    "plt.title('ACT')\n",
    "comb.Math_ACT.hist()\n",
    "plt.suptitle('Math Scores')\n",
    "plt.show()"
   ]
  },
  {
   "cell_type": "markdown",
   "metadata": {},
   "source": [
    "##### 18. Plot the Verbal distributions from both data sets."
   ]
  },
  {
   "cell_type": "code",
   "execution_count": 24,
   "metadata": {},
   "outputs": [
    {
     "data": {
      "image/png": "[encoded data removed]",
      "text/plain": [
       "<matplotlib.figure.Figure at 0x1f3fdd550f0>"
      ]
     },
     "metadata": {},
     "output_type": "display_data"
    }
   ],
   "source": [
    "plt.figure(1)\n",
    "plt.subplot(1,2,1)\n",
    "plt.title('SAT')\n",
    "comb.Reading_SAT.hist()\n",
    "\n",
    "plt.subplot(122)\n",
    "plt.title('ACT')\n",
    "comb.Reading_ACT.hist()\n",
    "plt.suptitle('Reading Scores')\n",
    "plt.show()"
   ]
  },
  {
   "cell_type": "markdown",
   "metadata": {},
   "source": [
    "##### 19. When we make assumptions about how data are distributed, what is the most common assumption?"
   ]
  },
  {
   "cell_type": "markdown",
   "metadata": {
    "collapsed": true
   },
   "source": [
    "The most common assumption to make about data is that it is normally distributed."
   ]
  },
  {
   "cell_type": "markdown",
   "metadata": {},
   "source": [
    "##### 20. Does this assumption hold true for any of our columns? Which?"
   ]
  },
  {
   "cell_type": "code",
   "execution_count": 25,
   "metadata": {},
   "outputs": [
    {
     "data": {
      "image/png": "[encoded data removed]",
      "text/plain": [
       "<matplotlib.figure.Figure at 0x1f3fde9ea58>"
      ]
     },
     "metadata": {},
     "output_type": "display_data"
    }
   ],
   "source": [
    "plt.figure(1, figsize=(18,12))\n",
    "for i in range(1,len(comb.columns)):\n",
    "    plt.subplot(3,4,i)\n",
    "    sns.distplot(comb.iloc[:,i], bins = 50, kde = True)\n",
    "plt.show()"
   ]
  },
  {
   "cell_type": "markdown",
   "metadata": {},
   "source": [
    "No, none of the distirbutions look normally distributed"
   ]
  },
  {
   "cell_type": "code",
   "execution_count": 26,
   "metadata": {},
   "outputs": [
    {
     "data": {
      "text/plain": [
       "[KstestResult(statistic=0.97724986805182079, pvalue=0.0),\n",
       " KstestResult(statistic=1.0, pvalue=0.0),\n",
       " KstestResult(statistic=1.0, pvalue=0.0),\n",
       " KstestResult(statistic=1.0, pvalue=0.0),\n",
       " KstestResult(statistic=0.99999999999999933, pvalue=0.0),\n",
       " KstestResult(statistic=1.0, pvalue=0.0),\n",
       " KstestResult(statistic=1.0, pvalue=0.0),\n",
       " KstestResult(statistic=1.0, pvalue=0.0),\n",
       " KstestResult(statistic=1.0, pvalue=0.0),\n",
       " KstestResult(statistic=1.0, pvalue=0.0)]"
      ]
     },
     "execution_count": 26,
     "metadata": {},
     "output_type": "execute_result"
    }
   ],
   "source": [
    "[stats.kstest(list(comb[c]),'norm') for c in comb.columns[1:]]"
   ]
  },
  {
   "cell_type": "markdown",
   "metadata": {},
   "source": [
    "Similarly Kolomogorov-Smirnov tests all suggest that none of the variables are normally distributed."
   ]
  },
  {
   "cell_type": "markdown",
   "metadata": {},
   "source": [
    "##### 21. Plot some scatterplots examining relationships between all variables."
   ]
  },
  {
   "cell_type": "code",
   "execution_count": 27,
   "metadata": {
    "collapsed": true
   },
   "outputs": [],
   "source": [
    "def panelPlot(num, slice1, slice2):\n",
    "    i=1\n",
    "    plt.figure(num, figsize = (10,10))\n",
    "    for y in toPlot.iloc[:,slice1]:    \n",
    "        for x in toPlot.iloc[:,slice2]:\n",
    "            plt.subplot(5,5,i)\n",
    "            plt.plot(toPlot[x],toPlot[y], '.')\n",
    "            if i % 5 == 1:\n",
    "                plt.ylabel(y)\n",
    "            if i in range(21,26):\n",
    "                plt.xlabel(x)\n",
    "            i+=1"
   ]
  },
  {
   "cell_type": "code",
   "execution_count": 28,
   "metadata": {
    "scrolled": false
   },
   "outputs": [
    {
     "ename": "NameError",
     "evalue": "name 'toPlot' is not defined",
     "output_type": "error",
     "traceback": [
      "\u001b[1;31m---------------------------------------------------------------------------\u001b[0m",
      "\u001b[1;31mNameError\u001b[0m                                 Traceback (most recent call last)",
      "\u001b[1;32m<ipython-input-28-73969309a85a>\u001b[0m in \u001b[0;36m<module>\u001b[1;34m()\u001b[0m\n\u001b[1;32m----> 1\u001b[1;33m \u001b[0mpanelPlot\u001b[0m\u001b[1;33m(\u001b[0m\u001b[1;36m1\u001b[0m\u001b[1;33m,\u001b[0m\u001b[0mslice\u001b[0m\u001b[1;33m(\u001b[0m\u001b[1;36m1\u001b[0m\u001b[1;33m,\u001b[0m\u001b[1;36m6\u001b[0m\u001b[1;33m)\u001b[0m\u001b[1;33m,\u001b[0m \u001b[0mslice\u001b[0m\u001b[1;33m(\u001b[0m\u001b[1;36m1\u001b[0m\u001b[1;33m,\u001b[0m\u001b[1;36m6\u001b[0m\u001b[1;33m)\u001b[0m\u001b[1;33m)\u001b[0m\u001b[1;33m\u001b[0m\u001b[0m\n\u001b[0m\u001b[0;32m      2\u001b[0m \u001b[1;33m\u001b[0m\u001b[0m\n\u001b[0;32m      3\u001b[0m \u001b[0mplt\u001b[0m\u001b[1;33m.\u001b[0m\u001b[0msuptitle\u001b[0m\u001b[1;33m(\u001b[0m\u001b[1;34m'Panel Plots of all var v. all others'\u001b[0m\u001b[1;33m)\u001b[0m\u001b[1;33m\u001b[0m\u001b[0m\n\u001b[0;32m      4\u001b[0m \u001b[1;33m\u001b[0m\u001b[0m\n\u001b[0;32m      5\u001b[0m \u001b[0mpanelPlot\u001b[0m\u001b[1;33m(\u001b[0m\u001b[1;36m2\u001b[0m\u001b[1;33m,\u001b[0m\u001b[0mslice\u001b[0m\u001b[1;33m(\u001b[0m\u001b[1;36m1\u001b[0m\u001b[1;33m,\u001b[0m\u001b[1;36m6\u001b[0m\u001b[1;33m)\u001b[0m\u001b[1;33m,\u001b[0m \u001b[0mslice\u001b[0m\u001b[1;33m(\u001b[0m\u001b[1;36m6\u001b[0m\u001b[1;33m,\u001b[0m\u001b[1;36m11\u001b[0m\u001b[1;33m)\u001b[0m\u001b[1;33m)\u001b[0m\u001b[1;33m\u001b[0m\u001b[0m\n",
      "\u001b[1;32m<ipython-input-27-e654a4fd6d24>\u001b[0m in \u001b[0;36mpanelPlot\u001b[1;34m(num, slice1, slice2)\u001b[0m\n\u001b[0;32m      2\u001b[0m     \u001b[0mi\u001b[0m\u001b[1;33m=\u001b[0m\u001b[1;36m1\u001b[0m\u001b[1;33m\u001b[0m\u001b[0m\n\u001b[0;32m      3\u001b[0m     \u001b[0mplt\u001b[0m\u001b[1;33m.\u001b[0m\u001b[0mfigure\u001b[0m\u001b[1;33m(\u001b[0m\u001b[0mnum\u001b[0m\u001b[1;33m,\u001b[0m \u001b[0mfigsize\u001b[0m \u001b[1;33m=\u001b[0m \u001b[1;33m(\u001b[0m\u001b[1;36m10\u001b[0m\u001b[1;33m,\u001b[0m\u001b[1;36m10\u001b[0m\u001b[1;33m)\u001b[0m\u001b[1;33m)\u001b[0m\u001b[1;33m\u001b[0m\u001b[0m\n\u001b[1;32m----> 4\u001b[1;33m     \u001b[1;32mfor\u001b[0m \u001b[0my\u001b[0m \u001b[1;32min\u001b[0m \u001b[0mtoPlot\u001b[0m\u001b[1;33m.\u001b[0m\u001b[0miloc\u001b[0m\u001b[1;33m[\u001b[0m\u001b[1;33m:\u001b[0m\u001b[1;33m,\u001b[0m\u001b[0mslice1\u001b[0m\u001b[1;33m]\u001b[0m\u001b[1;33m:\u001b[0m\u001b[1;33m\u001b[0m\u001b[0m\n\u001b[0m\u001b[0;32m      5\u001b[0m         \u001b[1;32mfor\u001b[0m \u001b[0mx\u001b[0m \u001b[1;32min\u001b[0m \u001b[0mtoPlot\u001b[0m\u001b[1;33m.\u001b[0m\u001b[0miloc\u001b[0m\u001b[1;33m[\u001b[0m\u001b[1;33m:\u001b[0m\u001b[1;33m,\u001b[0m\u001b[0mslice2\u001b[0m\u001b[1;33m]\u001b[0m\u001b[1;33m:\u001b[0m\u001b[1;33m\u001b[0m\u001b[0m\n\u001b[0;32m      6\u001b[0m             \u001b[0mplt\u001b[0m\u001b[1;33m.\u001b[0m\u001b[0msubplot\u001b[0m\u001b[1;33m(\u001b[0m\u001b[1;36m5\u001b[0m\u001b[1;33m,\u001b[0m\u001b[1;36m5\u001b[0m\u001b[1;33m,\u001b[0m\u001b[0mi\u001b[0m\u001b[1;33m)\u001b[0m\u001b[1;33m\u001b[0m\u001b[0m\n",
      "\u001b[1;31mNameError\u001b[0m: name 'toPlot' is not defined"
     ]
    },
    {
     "data": {
      "text/plain": [
       "<matplotlib.figure.Figure at 0x1f3fdc553c8>"
      ]
     },
     "metadata": {},
     "output_type": "display_data"
    }
   ],
   "source": [
    "panelPlot(1,slice(1,6), slice(1,6))\n",
    "\n",
    "plt.suptitle('Panel Plots of all var v. all others')\n",
    "\n",
    "panelPlot(2,slice(1,6), slice(6,11))\n",
    "panelPlot(3,slice(6,11), slice(1,6))\n",
    "panelPlot(4,slice(6,11), slice(6,11))\n",
    "\n",
    "plt.show()"
   ]
  },
  {
   "cell_type": "markdown",
   "metadata": {},
   "source": [
    "##### 22. Are there any interesting relationships to note?"
   ]
  },
  {
   "cell_type": "markdown",
   "metadata": {
    "collapsed": true
   },
   "source": [
    "ACT scores look to be positively correlated to other ACT scores, and SAT scores look to be positively correlated with other SAT scores. This seems unsurprising.  \n",
    "\n",
    "However, it also appears as if SAT participation is negatively correlated with SAT score and positive correlated with ACT score. Additionally the opposite appears true."
   ]
  },
  {
   "cell_type": "markdown",
   "metadata": {},
   "source": [
    "##### 23. Create box plots for each variable. "
   ]
  },
  {
   "cell_type": "code",
   "execution_count": null,
   "metadata": {},
   "outputs": [],
   "source": [
    "plt.figure(1, figsize = (10,5))\n",
    "plt.subplot(131)\n",
    "plt.title('SAT')\n",
    "comb.iloc[:, 2:5].boxplot()\n",
    "plt.xticks(rotation = 90)\n",
    "\n",
    "plt.subplot(132)sns.set()\n",
    "plt.title('ACT')\n",
    "comb.iloc[:, 6:].boxplot()\n",
    "plt.xticks(rotation = 90)\n",
    "\n",
    "plt.subplot(133)\n",
    "plt.title('Participation')\n",
    "comb.loc[:, ['Participation_SAT', 'Participation_ACT']].boxplot()\n",
    "plt.xticks(rotation = 90)\n",
    "\n",
    "\n",
    "plt.show()"
   ]
  },
  {
   "cell_type": "markdown",
   "metadata": {},
   "source": [
    "##### BONUS: Using Tableau, create a heat map for each variable using a map of the US. "
   ]
  },
  {
   "cell_type": "code",
   "execution_count": null,
   "metadata": {
    "collapsed": true
   },
   "outputs": [],
   "source": []
  },
  {
   "cell_type": "markdown",
   "metadata": {},
   "source": [
    "## Step 4: Descriptive and Inferential Statistics"
   ]
  },
  {
   "cell_type": "markdown",
   "metadata": {},
   "source": [
    "##### 24. Summarize each distribution. As data scientists, be sure to back up these summaries with statistics. (Hint: What are the three things we care about when describing distributions?)"
   ]
  },
  {
   "cell_type": "code",
   "execution_count": null,
   "metadata": {},
   "outputs": [],
   "source": [
    "comb.describe().filter(['mean','std'], axis = 0).round(2)"
   ]
  },
  {
   "cell_type": "markdown",
   "metadata": {},
   "source": [
    "##### 25. Summarize each relationship. Be sure to back up these summaries with statistics."
   ]
  },
  {
   "cell_type": "code",
   "execution_count": null,
   "metadata": {},
   "outputs": [],
   "source": [
    "corr = pd.DataFrame(np.corrcoef([comb[c] for c in comb[1:] if comb[c].dtype != 'O']))\n",
    "corr.index, corr.columns = comb.columns[1:], comb.columns[1:]\n",
    "plt.figure(1, figsize = (12,7\n",
    "                        ))\n",
    "sns.heatmap(corr, annot= True);"
   ]
  },
  {
   "cell_type": "markdown",
   "metadata": {},
   "source": [
    "As evidenced by the above heatmap, a couple trends in correlation start to emerge. SAT and ACT (partial and whole) correlate EXTREMELY WELL amongst themselves. But, there appears be some negative correlation between SAT and ACT scores.  \n",
    "\n",
    "In terms of participation, SAT participation is quite negatively strongly correlated with ACT Participation as well as SAT Scores, while being positively correlated with ACT scores. On the other hand, ACT participation is negatively correlated with ACT scores but positively correclated with SAT scores.  \n",
    "\n",
    "This makes some sense, in that states will tend toward ACT OR SAT, and those students who decide to take the other test will be taking that because they precieve some advantage in taking the other test."
   ]
  },
  {
   "cell_type": "markdown",
   "metadata": {},
   "source": [
    "##### 26. Execute a hypothesis test comparing the SAT and ACT participation rates. Use $\\alpha = 0.05$. Be sure to interpret your results."
   ]
  },
  {
   "cell_type": "code",
   "execution_count": null,
   "metadata": {},
   "outputs": [],
   "source": [
    "stats.ttest_rel(comb.Participation_SAT, comb.Participation_ACT)"
   ]
  },
  {
   "cell_type": "markdown",
   "metadata": {},
   "source": [
    "Given a calculated p-value of ~.007, at the 95% confidence level we can reject the null hypothesis that the mean of the two participation rates are equal."
   ]
  },
  {
   "cell_type": "markdown",
   "metadata": {},
   "source": [
    "##### 27. Generate and interpret 95% confidence intervals for SAT and ACT participation rates."
   ]
  },
  {
   "cell_type": "code",
   "execution_count": null,
   "metadata": {},
   "outputs": [],
   "source": [
    "print('SAT Participation 95% ci:',\n",
    "      stats.t.interval(0.95, len(comb.Participation_SAT)-1,\n",
    "                       loc = comb.Participation_SAT.mean(),\n",
    "                       scale = stats.sem(comb.Participation_SAT)))\n",
    "print('ACT Participation 95% ci:',\n",
    "      stats.t.interval(0.95, len(comb.Participation_ACT)-1,\n",
    "                       loc = comb.Participation_ACT.mean(),\n",
    "                       scale=  stats.sem(comb.Participation_ACT)))"
   ]
  },
  {
   "cell_type": "markdown",
   "metadata": {},
   "source": [
    "##### 28. Given your answer to 26, was your answer to 27 surprising? Why?"
   ]
  },
  {
   "cell_type": "markdown",
   "metadata": {
    "collapsed": true
   },
   "source": [
    "No, there is no overlap over the two confidence intervals which is what we would expect with different means."
   ]
  },
  {
   "cell_type": "markdown",
   "metadata": {},
   "source": [
    "##### 29. Is it appropriate to generate correlation between SAT and ACT math scores? Why?"
   ]
  },
  {
   "cell_type": "markdown",
   "metadata": {
    "collapsed": true
   },
   "source": [
    "It is not entirely appropriate because the data is not completely independent, which is to say that some students in some states will have taken both tests."
   ]
  },
  {
   "cell_type": "markdown",
   "metadata": {},
   "source": [
    "##### 30. Suppose we only seek to understand the relationship between SAT and ACT data in 2017. Does it make sense to conduct statistical inference given the data we have? Why?"
   ]
  },
  {
   "cell_type": "markdown",
   "metadata": {
    "collapsed": true
   },
   "source": [
    "No.  \n",
    "\n",
    "If the only desire is to understand the data, all we are interested in are the descriptive statistics, rather than those inferential statistics that might be obtained from the data"
   ]
  },
  {
   "cell_type": "markdown",
   "metadata": {},
   "source": [
    "# Building Graphics for Presentation"
   ]
  },
  {
   "cell_type": "code",
   "execution_count": null,
   "metadata": {
    "collapsed": true
   },
   "outputs": [],
   "source": [
    "act = pd.read_csv('../data/act.csv', index_col = 0)\n",
    "sat = pd.read_csv('../data/sat.csv', index_col = 0)\n",
    "sat.loc[20, 'Math'] = 524\n",
    "act.loc[21, 'Science'] = 23.2\n",
    "sat.Participation = sat.Participation.str.replace('%','').astype(int)\n",
    "act.Participation = act.Participation.str.replace('%','').astype(int)\n",
    "comb= sat.merge(act, on = 'State', suffixes= ('_SAT', '_ACT'))\n",
    "comb = comb.rename( columns= {})\n",
    "c = list(comb.columns)\n",
    "\n",
    "c[2] = 'Reading_SAT'\n",
    "c[4] = 'Total_SAT'\n",
    "\n",
    "for i in [6,8,9,10]:\n",
    "    c[i] = c[i]+'_ACT'\n",
    "comb.columns = c\n",
    "comb['Participation_Total'] = (comb['Participation_ACT']+comb['Participation_SAT'])/200"
   ]
  },
  {
   "cell_type": "code",
   "execution_count": null,
   "metadata": {
    "collapsed": true
   },
   "outputs": [],
   "source": [
    "Regions = {'NE':\n",
    "           ['Connecticut', 'Maine', 'Massachusetts',\n",
    "               'New Hampshire', 'Rhode Island', 'Vermont',\n",
    "                 'New Jersey', 'New York', 'Pennsylvania'],\n",
    "           'MW':\n",
    "           ['Illinois', 'Indiana', 'Michigan','Ohio',\n",
    "           'Wisconsin','Iowa', 'Kansas', 'Minnesota', 'Missouri', 'Nebraska',\n",
    "           'North Dakota', 'South Dakota'],\n",
    "           'STH':\n",
    "           ['Delaware', 'District of Columbia', 'Florida', 'Georgia',\n",
    "           'Maryland', 'North Carolina', 'South Carolina',\n",
    "           'Virginia', 'West Virginia', 'Alabama', 'Kentucky',\n",
    "           'Mississippi', 'Tennessee', 'Arkansas', 'Louisiana',\n",
    "           'Oklahoma', 'Texas'],\n",
    "           'WST':\n",
    "           ['Arizona', 'Colorado', 'Idaho', 'Montana',\n",
    "           'Nevada', 'New Mexico', 'Utah', 'Wyoming', \n",
    "           'Alaska','California', 'Hawaii', 'Oregon',\n",
    "           'Washington']\n",
    "          }\n",
    "\n",
    "toLabel = ['Florida', 'Connecticut', 'Arizona','Massachusetts', 'New Hampshire', 'District of Columbia', 'Wisconsin',\n",
    "          'Minnesota', 'Iowa', 'Kansas', 'North Carolina', 'South Carolina', 'Michigan', 'New Mexico', 'Nevada', 'Hawaii']\n",
    "\n",
    "\n",
    "\n",
    "r= []\n",
    "for k in Regions.keys():\n",
    "    for s in Regions[k]:\n",
    "        r.append((s,k))\n",
    "\n",
    "r= pd.DataFrame(r)\n",
    "r.columns = ['State', 'Region']\n",
    "comb2 = comb.merge(r, on = 'State')\n",
    "comb2['Region_N'] = [0 if r == 'STH'else .6 if r =='WST' else 2 if r == 'MW' else 3 for r in comb2['Region'] ]"
   ]
  },
  {
   "cell_type": "code",
   "execution_count": null,
   "metadata": {
    "collapsed": true
   },
   "outputs": [],
   "source": [
    "plt.figure(1, figsize = (10,10))\n",
    "plt.scatter(comb2.Participation_Total, comb2.Total_SAT, marker = 'o', c = comb2.Region_N, cmap='flag')\n",
    "plt.xlabel('Total Participation', fontsize = 18)\n",
    "plt.ylabel('SAT Total Score', fontsize = 18)\n",
    "plt.title('SAT by Total Participation Rate', fontsize = 22)\n",
    "for label, x, y in zip(toLabel, [comb2[comb2['State']==l].Participation_Total for l in toLabel],\n",
    "                       [comb2[comb2['State']==l].Total_SAT for l in toLabel]):\n",
    "    #print(label,x,y)\n",
    "    plt.annotate(label, xy = (x,y), fontsize = 14)"
   ]
  },
  {
   "cell_type": "code",
   "execution_count": null,
   "metadata": {
    "scrolled": true
   },
   "outputs": [],
   "source": [
    "plt.figure(1, figsize = (18,12))\n",
    "i=1\n",
    "for y in [comb2.Total_SAT, comb2.Composite_ACT]:\n",
    "    for x in [comb2.Participation_SAT,comb2.Participation_ACT, comb2.Participation_Total]:\n",
    "        plt.subplot(2,3,i)\n",
    "        plt.plot(x,y,'o')\n",
    "        if i % 3 ==1:\n",
    "            plt.ylabel(y.name, fontsize = 18)\n",
    "        if i in range(4,7):\n",
    "            plt.xlabel(x.name,fontsize = 18)\n",
    "        i+=1\n",
    "plt.show()"
   ]
  },
  {
   "cell_type": "code",
   "execution_count": null,
   "metadata": {
    "scrolled": true
   },
   "outputs": [],
   "source": [
    "print(comb[comb['Composite_ACT']>23.9][['State','Total_SAT','Composite_ACT','Participation_Total']])\n",
    "print(comb[comb['Composite_ACT']<20][['State','Total_SAT','Composite_ACT','Participation_Total']])\n",
    "print(comb[comb['Total_SAT']<975][['State','Total_SAT','Composite_ACT','Participation_Total']])\n",
    "print(comb[comb['Total_SAT']>1250][['State','Total_SAT','Composite_ACT','Participation_Total']])"
   ]
  },
  {
   "cell_type": "code",
   "execution_count": null,
   "metadata": {},
   "outputs": [],
   "source": [
    "plt.figure(1, figsize = (18,12))\n",
    "i=1\n",
    "for y in [comb2.Total_SAT, comb2.Composite_ACT]:\n",
    "    for x in [comb2.Math_SAT,comb2.Reading_SAT, comb2.Math_ACT, comb2.Reading_ACT]:\n",
    "        plt.subplot(2,4,i)\n",
    "        plt.plot(x,y,'o')\n",
    "        if i % 4 ==1:\n",
    "            plt.ylabel(y.name, fontsize = 18)\n",
    "        if i in range(5,9):\n",
    "            plt.xlabel(x.name,fontsize = 18)\n",
    "        i+=1\n",
    "plt.show()"
   ]
  },
  {
   "cell_type": "code",
   "execution_count": null,
   "metadata": {},
   "outputs": [],
   "source": [
    "def panelPlot(num, slice1, slice2):\n",
    "    i=1\n",
    "    plt.figure(num, figsize = (10,10))\n",
    "    for y in comb.iloc[:,slice1]:    \n",
    "        for x in comb.iloc[:,slice2]:\n",
    "            plt.subplot(5,5,i)\n",
    "            plt.plot(comb[x],comb[y], '.')\n",
    "            if i % 5 == 1:\n",
    "                plt.ylabel(y)\n",
    "            if i in range(21,26):\n",
    "                plt.xlabel(x)\n",
    "            i+=1"
   ]
  },
  {
   "cell_type": "code",
   "execution_count": null,
   "metadata": {
    "collapsed": true
   },
   "outputs": [],
   "source": [
    "plt.figure(1, figsize = (10,10))\n",
    "plt.scatter(comb2.Participation_Total, comb2.Composite_ACT, marker = 'o', c = comb2.Region_N, cmap='flag')\n",
    "plt.xlabel('Total Participation', fontsize = 18)\n",
    "plt.ylabel('ACT Total Score', fontsize = 18)\n",
    "plt.title('ACT by Total Participation Rate', fontsize = 22)\n",
    "for label, x, y in zip(toLabel, [comb2[comb2['State']==l].Participation_Total for l in toLabel],\n",
    "                       [comb2[comb2['State']==l].Composite_ACT for l in toLabel]):\n",
    "    #print(label,x,y)\n",
    "    plt.annotate(label, xy = (x,y),xytext=(-5, 5), fontsize = 14, textcoords = 'offset points', ha='right', va='bottom')"
   ]
  },
  {
   "cell_type": "code",
   "execution_count": null,
   "metadata": {
    "collapsed": true
   },
   "outputs": [],
   "source": [
    "plt.figure(1, figsize = (12,7\n",
    "                        ))\n",
    "corrP = corr[['Participation_SAT','Participation_ACT','Participation_Total']]\n",
    "corrP = corrP.filter(['Total_SAT', 'Composite_ACT'], axis=0)\n",
    "\n",
    "corrP\n",
    "#= corr.filter(['Total_SAT','Composite_ACT'])\n",
    "sns.heatmap(corrP, annot= True)"
   ]
  },
  {
   "cell_type": "code",
   "execution_count": null,
   "metadata": {},
   "outputs": [],
   "source": [
    "plt.figure(1, figsize = (10,10))\n",
    "plt.scatter(comb2.Participation_Total, comb2.Total_SAT, marker = 'o')\n",
    "plt.xlabel('Total Participation', fontsize = 18)\n",
    "plt.ylabel('SAT Total Score', fontsize = 18)\n",
    "plt.title('SAT by Total Participation Rate', fontsize = 22)"
   ]
  },
  {
   "cell_type": "code",
   "execution_count": null,
   "metadata": {},
   "outputs": [],
   "source": [
    "plt.figure(1, figsize = (10,10))\n",
    "plt.scatter(comb2.Participation_Total, comb2.Participation_ACT, marker = 'o')\n",
    "plt.xlabel('Total Participation', fontsize = 18)\n",
    "plt.ylabel('ACT Total Score', fontsize = 18)\n",
    "plt.title('ACT by Total Participation Rate', fontsize = 22)"
   ]
  },
  {
   "cell_type": "code",
   "execution_count": null,
   "metadata": {},
   "outputs": [],
   "source": [
    "plt.figure(1, figsize = (12,5))\n",
    "plt.subplot(131)\n",
    "plt.title('SAT')\n",
    "comb2.Participation_SAT.hist()\n",
    "\n",
    "plt.subplot(132)\n",
    "plt.title('ACT')\n",
    "comb2.Participation_ACT.hist()\n",
    "plt.suptitle('Participation Rate')\n",
    "\n",
    "plt.subplot(133)\n",
    "plt.title('Total')\n",
    "comb2.Participation_Total.hist()\n",
    "plt.show()"
   ]
  }
 ],
 "metadata": {
  "anaconda-cloud": {},
  "kernelspec": {
   "display_name": "Python 3",
   "language": "python",
   "name": "python3"
  },
  "language_info": {
   "codemirror_mode": {
    "name": "ipython",
    "version": 3
   },
   "file_extension": ".py",
   "mimetype": "text/x-python",
   "name": "python",
   "nbconvert_exporter": "python",
   "pygments_lexer": "ipython3",
   "version": "3.6.3"
  }
 },
 "nbformat": 4,
 "nbformat_minor": 1
}
